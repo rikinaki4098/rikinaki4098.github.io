{
  "cells": [
    {
      "cell_type": "markdown",
      "metadata": {
        "id": "view-in-github",
        "colab_type": "text"
      },
      "source": [
        "<a href=\"https://colab.research.google.com/github/rikinaki4098/rikinaki4098.github.io/blob/master/Legal_Violations_on_College_Campuses_and_Their_Implications.ipynb\" target=\"_parent\"><img src=\"https://colab.research.google.com/assets/colab-badge.svg\" alt=\"Open In Colab\"/></a>"
      ]
    },
    {
      "cell_type": "markdown",
      "metadata": {
        "id": "lYmlp5NVGNvG"
      },
      "source": [
        "#### Leadora Kyin (lak252), Riki Funaki (rf388), Rokiatou Sissoko (rss363), Sage Lee (sl2364)\n",
        "\n",
        "## INFO 2950 Final Project\n",
        "\n",
        "***\n",
        "\n",
        "# Legal Violations on College Campuses and Their Implications <a class=\"anchor\" id=\"top\"></a>"
      ]
    },
    {
      "cell_type": "markdown",
      "metadata": {
        "id": "GaW1HtoBGNvL"
      },
      "source": [
        "## Table of Contents\n",
        "\n",
        "1. [Introduction](#introduction) \n",
        "    - [Research Question](#question)\n",
        "    - [Brief Summary of Findings](#summary)\n",
        "2. [Data Description](#description)\n",
        "    - [Background Information](#background)\n",
        "3. [Pre-Registration Statement](#preres)\n",
        "4. [Data Analysis](#analysis)\n",
        "    - [Clustering](#clustering)\n",
        "    - [Multivariable Linear Regression](#mlr)\n",
        "    - [Pearson Correlation Test](#pearsontest)\n",
        "5. [Evaluation of Significance](#evaluation)\n",
        "6. [Interpretation and Conclusions](#conclusion)\n",
        "7. [Data Limitations](#limitations)\n",
        "8. [Source Code](#source)\n",
        "9. [Acknowledgements](#acknowledgements)"
      ]
    },
    {
      "cell_type": "markdown",
      "metadata": {
        "id": "MI9hlAhkGNvN"
      },
      "source": [
        "## Introduction <a class=\"anchor\" id=\"introduction\"></a>\n",
        "We were initially interested in pursuing a research topic that we could relate to as college students ourselves. We are accurately aware of the perpetuated image of the life of an average American college student and became curious regarding the intricacies of this stereotype: specifically regarding legal violations involving sexual assault, drug and alcohol use, and possession of illegal weapons. Cornell does a notable job of ensuring the safety of its students through a collection of policies in place: mandatory freshmen events regarding sexual harassment, the Good Samaritan law, a dedicated campus security force, open encouragement and support from mental health and Title IX services, and more. However, we believe that this topic is currently more relevant than ever in the wake of national incessant violence, as well as social and political unrest; although we feel relatively lucky to feel mostly safe within the bounds of the Cornell campus, we recognize that this is not the case for students across all campuses, nor can we claim it to be the case for all students on our own campus. \n",
        "\n",
        "#### Research Question <a class=\"anchor\" id=\"question\"></a>\n",
        "In this research project, we are interested in exploring any potential relationships between different types of legal violations perpetuated on college campuses, including sexual assault allegations, drug law violations, possession of illegal weapons, and liquor law violations. Might the data on these four types of violations show any correlation with overall college rankings? Might geographical location of campuses have any implications on these relationships?\n",
        "\n",
        "We hypothesize that these four types of legal violations may have implications on one another, especially broader violations regarding alcohol consumption. We also hypothesize that the counts of these vilations may be negatively correlated to overall college ranking: the more violations a college campus has, the lower its ranking.\n",
        "\n",
        "\n",
        "#### Brief Summary of Findings <a class=\"anchor\" id=\"summary\"></a>\n",
        "Through our research, we made the surprising discovery that not many strong correlations could be found in any of these variables. We expected there to be at least some significant relationships involved in the various variables we included in this study; however, the data shows little to no correlation. We explore the data and why this result may be in the following study.\n",
        "\n",
        "[back to top](#top)\n"
      ]
    },
    {
      "cell_type": "markdown",
      "metadata": {
        "id": "GfZWjCleGNvP"
      },
      "source": [
        "## Data Description <a class=\"anchor\" id=\"description\"></a>\n",
        "One of our datasets presents the college rankings of universities across the nation based on which schools are worth attending the most. Another dataset presents data on campus Violence Against Women Act (VAWA) violations regarding domestic, dating, and stalking violence. This data was created to research if a relationship amongst college rankings, alcohol consumption rates, and VAWA violations exists. The Office of Postsecondary Education of The U.S Department of Education funded the creation of both the VAWA violations and Alcohol Consumption Rates datasets. The dataset of College Rankings was created by Christopher Cammilleri of Forbes Magazine. One thing to note when considering these datasets is that there is a history of school administrators using illegal processes of covering up scandals of sexual assault and domestic violence. These instances may potentially have altered the data collection of violations on college campuses.\n",
        "\n",
        "Our initial data organization process consisted of cleaning the data by dropping unnecessary columns and centralizing data for only 2018, the most recent year. Also, because some colleges were divided for several campuses, we grouped the dataset by institutions and added up the liquor law violations for each college. As universities and colleges were involved in the datasets, the data does not consist of any individuals. All information from the datasets was gathered from different sources provided by colleges and the U.S Department of Education. The raw source data can be found on https://ope.ed.gov/campussafety/#/ and https://www.kaggle.com/chris95cam/forbes-americas-top-colleges-2019."
      ]
    },
    {
      "cell_type": "markdown",
      "metadata": {
        "id": "DEjmOqQjGNvR"
      },
      "source": [
        "### Background Information <a class=\"anchor\" id=\"background\"></a>\n",
        "\n",
        "#### The Clery Act\n",
        "\"The Clery Act requires all colleges and universities that participate in federal financial aid programs to keep and disclose information about crime on and near their respective campuses. Reporting is mandated and institutions that don’t comply are fined. Each college is required to keep record and provide information about An institution must keep the most recent eight years of crime statistics that occurred.\" (Source: https://en.wikipedia.org/wiki/Clery_Act)\n",
        "\n",
        "The statistics used in the project are part of the Clery Act. The Department of Education website, where we sourced the data (https://ope.ed.gov/campussafety/), reads: “This data collection is required by the Jeanne Clery Disclosure of Campus Security Policy and Campus Crime Statistics Act and the Higher Education Opportunity Act.” \n",
        "\n",
        "\n",
        "#### College Campuses: Rankings and Groupings\n",
        "For college ranking data, we used the Forbes ranking because it was the only ranking that we could find on the internet that was in CSV form. Also, the Forbes ranking is a relatively well known college ranking published by a well respected publication (Forbes magazine). Forbes bases these rankings on six factors: Alumni Salary (20%), Student Satisfaction (20%), Debt (20%), American Leaders (15%), On-Time Graduation Rate (12.5%), and Academic Success (12.5%).\n",
        "\n",
        "The reason why we grouped some colleges together is because many colleges have many campuses (in addition to a main campus) that are very small in size. Therefore, even if there are only a few cases of VAWA violations or alcohol violations on these small campuses, it might show more extreme results when we do our analysis due to the small population of that campus. This is exemplified by the fact that when we got the data from the US Department of Education website, we chose to gather data from colleges with a population of over 5000. This number contains the count from all the campuses combined; therefore, it made sense for us to combine the campuses. We concluded that it is better to combine the college campuses to minimize the probability of extreme results and outliers based on this factor. \n",
        "\n",
        "In addition, the college ranking and US Department of Education datasets are from two entirely different places. This means that there are inevitable differences within the datasets. In our case, the two datasets did not have all of the exact same colleges, and some of them were even spelled differently on the datasets. Because there were about 648 rows in each dataset, it would be very tedious to go into the datasets and change the name of each college. Therefore, we opted to use the colleges that were common in both datasets. Although 214 colleges is a much smaller number compared to that of the original datasets, this value still gave us enough data to make conclusions similar to what we would have from the 648 rows. For example, when we made scatterplots of the VAWA violations and the liquor law violations for both the 214 colleges and the 648 colleges, the scatterplots had similar shapes, and both did not seem to have significant correlations. In addition, looking at the spread in the amounts of colleges per region, there is no one clear region that has a significant number of colleges over others, which shows that the 214 colleges were chosen fairly evenly.\n",
        "\n",
        "[back to top](#top)"
      ]
    },
    {
      "cell_type": "markdown",
      "metadata": {
        "id": "3Qb_MNmtGNvT"
      },
      "source": [
        "## Pre-Registration Statement <a class=\"anchor\" id=\"preres\"></a>\n",
        "In our pre-registration, we committed to including the following two analyses within our research.\n",
        "\n",
        "Firstly, we will be conducting a multivariable linear regression on alcohol law violations, sexual assault allegations, drug law violations, and illegal weapons possessions to predict each other and see if there are any correlations among the four data sets. We are hoping to potentially predict school ranking and see if all four of these combined have any strong impact on school ranking. In our data cleaning, we initially noticed that just one of the variables had little to no correlation with ranking, so we are interested in discovering whether a multivariable linear regression might indicate more of a correlation with school ranking.\n",
        "\n",
        "Secondly, we will also be clustering the data by geographical region. We are curious to discover whether specific geographic attributes, such as urban vs rural, blue vs red might have an impact on our data.\n",
        "\n",
        "[back to top](#top)"
      ]
    },
    {
      "cell_type": "markdown",
      "metadata": {
        "id": "27fG9WjzGNvT"
      },
      "source": [
        "## Data Analysis <a class=\"anchor\" id=\"analysis\"></a>"
      ]
    },
    {
      "cell_type": "code",
      "execution_count": null,
      "metadata": {
        "id": "XtlM2wYAGNvU"
      },
      "outputs": [],
      "source": [
        "## imports\n",
        "from sklearn.linear_model import LinearRegression\n",
        "import pandas as pd\n",
        "import numpy as np\n",
        "import matplotlib.pyplot as plt\n",
        "from scipy import stats\n",
        "from numpy import polyfit\n",
        "\n",
        "## load some data\n",
        "\n",
        "# group, from our data cleaning appendix\n",
        "group = pd.read_csv('group.csv')\n",
        "\n",
        "# group2, from our data cleaning appendix\n",
        "group2 = pd.read_csv('group2.csv')\n",
        "\n",
        "# US Census Bureau regions and divisions\n",
        "regions = (pd.read_csv('data/us census bureau regions and divisions.csv')).reset_index(drop = True)\n",
        "# Found on https://github.com/cphalpert/census-regions/blob/master/us%20census%20bureau%20regions%20and%20divisions.csv "
      ]
    },
    {
      "cell_type": "markdown",
      "metadata": {
        "id": "5iEc3j_LGNvW"
      },
      "source": [
        "[back to top](#top)\n",
        "\n",
        "### Clustering <a class=\"anchor\" id=\"clustering\"></a>"
      ]
    },
    {
      "cell_type": "markdown",
      "metadata": {
        "id": "11UkEcwSGNvX"
      },
      "source": [
        "We began by clustering by region using the \"group2\" dataframe. The regions consist of the different regions listed in the US Census Bureau: Northeast, West, South, and Midwest."
      ]
    },
    {
      "cell_type": "code",
      "execution_count": null,
      "metadata": {
        "id": "Q6wjrrzXGNvX",
        "outputId": "410c286a-2af9-4227-d59e-4503bca42139"
      },
      "outputs": [
        {
          "data": {
            "text/html": [
              "<div>\n",
              "<style scoped>\n",
              "    .dataframe tbody tr th:only-of-type {\n",
              "        vertical-align: middle;\n",
              "    }\n",
              "\n",
              "    .dataframe tbody tr th {\n",
              "        vertical-align: top;\n",
              "    }\n",
              "\n",
              "    .dataframe thead th {\n",
              "        text-align: right;\n",
              "    }\n",
              "</style>\n",
              "<table border=\"1\" class=\"dataframe\">\n",
              "  <thead>\n",
              "    <tr style=\"text-align: right;\">\n",
              "      <th></th>\n",
              "      <th>State</th>\n",
              "      <th>State Code</th>\n",
              "      <th>Region</th>\n",
              "      <th>Division</th>\n",
              "    </tr>\n",
              "  </thead>\n",
              "  <tbody>\n",
              "    <tr>\n",
              "      <th>0</th>\n",
              "      <td>Alaska</td>\n",
              "      <td>AK</td>\n",
              "      <td>West</td>\n",
              "      <td>Pacific</td>\n",
              "    </tr>\n",
              "    <tr>\n",
              "      <th>1</th>\n",
              "      <td>Alabama</td>\n",
              "      <td>AL</td>\n",
              "      <td>South</td>\n",
              "      <td>East South Central</td>\n",
              "    </tr>\n",
              "    <tr>\n",
              "      <th>2</th>\n",
              "      <td>Arkansas</td>\n",
              "      <td>AR</td>\n",
              "      <td>South</td>\n",
              "      <td>West South Central</td>\n",
              "    </tr>\n",
              "    <tr>\n",
              "      <th>3</th>\n",
              "      <td>Arizona</td>\n",
              "      <td>AZ</td>\n",
              "      <td>West</td>\n",
              "      <td>Mountain</td>\n",
              "    </tr>\n",
              "    <tr>\n",
              "      <th>4</th>\n",
              "      <td>California</td>\n",
              "      <td>CA</td>\n",
              "      <td>West</td>\n",
              "      <td>Pacific</td>\n",
              "    </tr>\n",
              "    <tr>\n",
              "      <th>5</th>\n",
              "      <td>Colorado</td>\n",
              "      <td>CO</td>\n",
              "      <td>West</td>\n",
              "      <td>Mountain</td>\n",
              "    </tr>\n",
              "    <tr>\n",
              "      <th>6</th>\n",
              "      <td>Connecticut</td>\n",
              "      <td>CT</td>\n",
              "      <td>Northeast</td>\n",
              "      <td>New England</td>\n",
              "    </tr>\n",
              "    <tr>\n",
              "      <th>7</th>\n",
              "      <td>District of Columbia</td>\n",
              "      <td>DC</td>\n",
              "      <td>South</td>\n",
              "      <td>South Atlantic</td>\n",
              "    </tr>\n",
              "    <tr>\n",
              "      <th>8</th>\n",
              "      <td>Delaware</td>\n",
              "      <td>DE</td>\n",
              "      <td>South</td>\n",
              "      <td>South Atlantic</td>\n",
              "    </tr>\n",
              "    <tr>\n",
              "      <th>9</th>\n",
              "      <td>Florida</td>\n",
              "      <td>FL</td>\n",
              "      <td>South</td>\n",
              "      <td>South Atlantic</td>\n",
              "    </tr>\n",
              "    <tr>\n",
              "      <th>10</th>\n",
              "      <td>Georgia</td>\n",
              "      <td>GA</td>\n",
              "      <td>South</td>\n",
              "      <td>South Atlantic</td>\n",
              "    </tr>\n",
              "    <tr>\n",
              "      <th>11</th>\n",
              "      <td>Hawaii</td>\n",
              "      <td>HI</td>\n",
              "      <td>West</td>\n",
              "      <td>Pacific</td>\n",
              "    </tr>\n",
              "    <tr>\n",
              "      <th>12</th>\n",
              "      <td>Iowa</td>\n",
              "      <td>IA</td>\n",
              "      <td>Midwest</td>\n",
              "      <td>West North Central</td>\n",
              "    </tr>\n",
              "    <tr>\n",
              "      <th>13</th>\n",
              "      <td>Idaho</td>\n",
              "      <td>ID</td>\n",
              "      <td>West</td>\n",
              "      <td>Mountain</td>\n",
              "    </tr>\n",
              "    <tr>\n",
              "      <th>14</th>\n",
              "      <td>Illinois</td>\n",
              "      <td>IL</td>\n",
              "      <td>Midwest</td>\n",
              "      <td>East North Central</td>\n",
              "    </tr>\n",
              "    <tr>\n",
              "      <th>15</th>\n",
              "      <td>Indiana</td>\n",
              "      <td>IN</td>\n",
              "      <td>Midwest</td>\n",
              "      <td>East North Central</td>\n",
              "    </tr>\n",
              "    <tr>\n",
              "      <th>16</th>\n",
              "      <td>Kansas</td>\n",
              "      <td>KS</td>\n",
              "      <td>Midwest</td>\n",
              "      <td>West North Central</td>\n",
              "    </tr>\n",
              "    <tr>\n",
              "      <th>17</th>\n",
              "      <td>Kentucky</td>\n",
              "      <td>KY</td>\n",
              "      <td>South</td>\n",
              "      <td>East South Central</td>\n",
              "    </tr>\n",
              "    <tr>\n",
              "      <th>18</th>\n",
              "      <td>Louisiana</td>\n",
              "      <td>LA</td>\n",
              "      <td>South</td>\n",
              "      <td>West South Central</td>\n",
              "    </tr>\n",
              "    <tr>\n",
              "      <th>19</th>\n",
              "      <td>Massachusetts</td>\n",
              "      <td>MA</td>\n",
              "      <td>Northeast</td>\n",
              "      <td>New England</td>\n",
              "    </tr>\n",
              "    <tr>\n",
              "      <th>20</th>\n",
              "      <td>Maryland</td>\n",
              "      <td>MD</td>\n",
              "      <td>South</td>\n",
              "      <td>South Atlantic</td>\n",
              "    </tr>\n",
              "    <tr>\n",
              "      <th>21</th>\n",
              "      <td>Maine</td>\n",
              "      <td>ME</td>\n",
              "      <td>Northeast</td>\n",
              "      <td>New England</td>\n",
              "    </tr>\n",
              "    <tr>\n",
              "      <th>22</th>\n",
              "      <td>Michigan</td>\n",
              "      <td>MI</td>\n",
              "      <td>Midwest</td>\n",
              "      <td>East North Central</td>\n",
              "    </tr>\n",
              "    <tr>\n",
              "      <th>23</th>\n",
              "      <td>Minnesota</td>\n",
              "      <td>MN</td>\n",
              "      <td>Midwest</td>\n",
              "      <td>West North Central</td>\n",
              "    </tr>\n",
              "    <tr>\n",
              "      <th>24</th>\n",
              "      <td>Missouri</td>\n",
              "      <td>MO</td>\n",
              "      <td>Midwest</td>\n",
              "      <td>West North Central</td>\n",
              "    </tr>\n",
              "    <tr>\n",
              "      <th>25</th>\n",
              "      <td>Mississippi</td>\n",
              "      <td>MS</td>\n",
              "      <td>South</td>\n",
              "      <td>East South Central</td>\n",
              "    </tr>\n",
              "    <tr>\n",
              "      <th>26</th>\n",
              "      <td>Montana</td>\n",
              "      <td>MT</td>\n",
              "      <td>West</td>\n",
              "      <td>Mountain</td>\n",
              "    </tr>\n",
              "    <tr>\n",
              "      <th>27</th>\n",
              "      <td>North Carolina</td>\n",
              "      <td>NC</td>\n",
              "      <td>South</td>\n",
              "      <td>South Atlantic</td>\n",
              "    </tr>\n",
              "    <tr>\n",
              "      <th>28</th>\n",
              "      <td>North Dakota</td>\n",
              "      <td>ND</td>\n",
              "      <td>Midwest</td>\n",
              "      <td>West North Central</td>\n",
              "    </tr>\n",
              "    <tr>\n",
              "      <th>29</th>\n",
              "      <td>Nebraska</td>\n",
              "      <td>NE</td>\n",
              "      <td>Midwest</td>\n",
              "      <td>West North Central</td>\n",
              "    </tr>\n",
              "    <tr>\n",
              "      <th>30</th>\n",
              "      <td>New Hampshire</td>\n",
              "      <td>NH</td>\n",
              "      <td>Northeast</td>\n",
              "      <td>New England</td>\n",
              "    </tr>\n",
              "    <tr>\n",
              "      <th>31</th>\n",
              "      <td>New Jersey</td>\n",
              "      <td>NJ</td>\n",
              "      <td>Northeast</td>\n",
              "      <td>Middle Atlantic</td>\n",
              "    </tr>\n",
              "    <tr>\n",
              "      <th>32</th>\n",
              "      <td>New Mexico</td>\n",
              "      <td>NM</td>\n",
              "      <td>West</td>\n",
              "      <td>Mountain</td>\n",
              "    </tr>\n",
              "    <tr>\n",
              "      <th>33</th>\n",
              "      <td>Nevada</td>\n",
              "      <td>NV</td>\n",
              "      <td>West</td>\n",
              "      <td>Mountain</td>\n",
              "    </tr>\n",
              "    <tr>\n",
              "      <th>34</th>\n",
              "      <td>New York</td>\n",
              "      <td>NY</td>\n",
              "      <td>Northeast</td>\n",
              "      <td>Middle Atlantic</td>\n",
              "    </tr>\n",
              "    <tr>\n",
              "      <th>35</th>\n",
              "      <td>Ohio</td>\n",
              "      <td>OH</td>\n",
              "      <td>Midwest</td>\n",
              "      <td>East North Central</td>\n",
              "    </tr>\n",
              "    <tr>\n",
              "      <th>36</th>\n",
              "      <td>Oklahoma</td>\n",
              "      <td>OK</td>\n",
              "      <td>South</td>\n",
              "      <td>West South Central</td>\n",
              "    </tr>\n",
              "    <tr>\n",
              "      <th>37</th>\n",
              "      <td>Oregon</td>\n",
              "      <td>OR</td>\n",
              "      <td>West</td>\n",
              "      <td>Pacific</td>\n",
              "    </tr>\n",
              "    <tr>\n",
              "      <th>38</th>\n",
              "      <td>Pennsylvania</td>\n",
              "      <td>PA</td>\n",
              "      <td>Northeast</td>\n",
              "      <td>Middle Atlantic</td>\n",
              "    </tr>\n",
              "    <tr>\n",
              "      <th>39</th>\n",
              "      <td>Rhode Island</td>\n",
              "      <td>RI</td>\n",
              "      <td>Northeast</td>\n",
              "      <td>New England</td>\n",
              "    </tr>\n",
              "    <tr>\n",
              "      <th>40</th>\n",
              "      <td>South Carolina</td>\n",
              "      <td>SC</td>\n",
              "      <td>South</td>\n",
              "      <td>South Atlantic</td>\n",
              "    </tr>\n",
              "    <tr>\n",
              "      <th>41</th>\n",
              "      <td>South Dakota</td>\n",
              "      <td>SD</td>\n",
              "      <td>Midwest</td>\n",
              "      <td>West North Central</td>\n",
              "    </tr>\n",
              "    <tr>\n",
              "      <th>42</th>\n",
              "      <td>Tennessee</td>\n",
              "      <td>TN</td>\n",
              "      <td>South</td>\n",
              "      <td>East South Central</td>\n",
              "    </tr>\n",
              "    <tr>\n",
              "      <th>43</th>\n",
              "      <td>Texas</td>\n",
              "      <td>TX</td>\n",
              "      <td>South</td>\n",
              "      <td>West South Central</td>\n",
              "    </tr>\n",
              "    <tr>\n",
              "      <th>44</th>\n",
              "      <td>Utah</td>\n",
              "      <td>UT</td>\n",
              "      <td>West</td>\n",
              "      <td>Mountain</td>\n",
              "    </tr>\n",
              "    <tr>\n",
              "      <th>45</th>\n",
              "      <td>Virginia</td>\n",
              "      <td>VA</td>\n",
              "      <td>South</td>\n",
              "      <td>South Atlantic</td>\n",
              "    </tr>\n",
              "    <tr>\n",
              "      <th>46</th>\n",
              "      <td>Vermont</td>\n",
              "      <td>VT</td>\n",
              "      <td>Northeast</td>\n",
              "      <td>New England</td>\n",
              "    </tr>\n",
              "    <tr>\n",
              "      <th>47</th>\n",
              "      <td>Washington</td>\n",
              "      <td>WA</td>\n",
              "      <td>West</td>\n",
              "      <td>Pacific</td>\n",
              "    </tr>\n",
              "    <tr>\n",
              "      <th>48</th>\n",
              "      <td>Wisconsin</td>\n",
              "      <td>WI</td>\n",
              "      <td>Midwest</td>\n",
              "      <td>East North Central</td>\n",
              "    </tr>\n",
              "    <tr>\n",
              "      <th>49</th>\n",
              "      <td>West Virginia</td>\n",
              "      <td>WV</td>\n",
              "      <td>South</td>\n",
              "      <td>South Atlantic</td>\n",
              "    </tr>\n",
              "    <tr>\n",
              "      <th>50</th>\n",
              "      <td>Wyoming</td>\n",
              "      <td>WY</td>\n",
              "      <td>West</td>\n",
              "      <td>Mountain</td>\n",
              "    </tr>\n",
              "  </tbody>\n",
              "</table>\n",
              "</div>"
            ],
            "text/plain": [
              "                   State State Code     Region            Division\n",
              "0                 Alaska         AK       West             Pacific\n",
              "1                Alabama         AL      South  East South Central\n",
              "2               Arkansas         AR      South  West South Central\n",
              "3                Arizona         AZ       West            Mountain\n",
              "4             California         CA       West             Pacific\n",
              "5               Colorado         CO       West            Mountain\n",
              "6            Connecticut         CT  Northeast         New England\n",
              "7   District of Columbia         DC      South      South Atlantic\n",
              "8               Delaware         DE      South      South Atlantic\n",
              "9                Florida         FL      South      South Atlantic\n",
              "10               Georgia         GA      South      South Atlantic\n",
              "11                Hawaii         HI       West             Pacific\n",
              "12                  Iowa         IA    Midwest  West North Central\n",
              "13                 Idaho         ID       West            Mountain\n",
              "14              Illinois         IL    Midwest  East North Central\n",
              "15               Indiana         IN    Midwest  East North Central\n",
              "16                Kansas         KS    Midwest  West North Central\n",
              "17              Kentucky         KY      South  East South Central\n",
              "18             Louisiana         LA      South  West South Central\n",
              "19         Massachusetts         MA  Northeast         New England\n",
              "20              Maryland         MD      South      South Atlantic\n",
              "21                 Maine         ME  Northeast         New England\n",
              "22              Michigan         MI    Midwest  East North Central\n",
              "23             Minnesota         MN    Midwest  West North Central\n",
              "24              Missouri         MO    Midwest  West North Central\n",
              "25           Mississippi         MS      South  East South Central\n",
              "26               Montana         MT       West            Mountain\n",
              "27        North Carolina         NC      South      South Atlantic\n",
              "28          North Dakota         ND    Midwest  West North Central\n",
              "29              Nebraska         NE    Midwest  West North Central\n",
              "30         New Hampshire         NH  Northeast         New England\n",
              "31            New Jersey         NJ  Northeast     Middle Atlantic\n",
              "32            New Mexico         NM       West            Mountain\n",
              "33                Nevada         NV       West            Mountain\n",
              "34              New York         NY  Northeast     Middle Atlantic\n",
              "35                  Ohio         OH    Midwest  East North Central\n",
              "36              Oklahoma         OK      South  West South Central\n",
              "37                Oregon         OR       West             Pacific\n",
              "38          Pennsylvania         PA  Northeast     Middle Atlantic\n",
              "39          Rhode Island         RI  Northeast         New England\n",
              "40        South Carolina         SC      South      South Atlantic\n",
              "41          South Dakota         SD    Midwest  West North Central\n",
              "42             Tennessee         TN      South  East South Central\n",
              "43                 Texas         TX      South  West South Central\n",
              "44                  Utah         UT       West            Mountain\n",
              "45              Virginia         VA      South      South Atlantic\n",
              "46               Vermont         VT  Northeast         New England\n",
              "47            Washington         WA       West             Pacific\n",
              "48             Wisconsin         WI    Midwest  East North Central\n",
              "49         West Virginia         WV      South      South Atlantic\n",
              "50               Wyoming         WY       West            Mountain"
            ]
          },
          "execution_count": 2,
          "metadata": {},
          "output_type": "execute_result"
        }
      ],
      "source": [
        "regions\n",
        "# CSV form of a list of US censes bureau regions and divisions. \n",
        "# Found on github but made based on a pdf on the census bureau website.\n",
        "# https://github.com/cphalpert/census-regions/blob/master/us%20census%20bureau%20regions%20and%20divisions.csv"
      ]
    },
    {
      "cell_type": "markdown",
      "metadata": {
        "id": "vabME3bdGNvY"
      },
      "source": [
        "We incorporated the \"regions\" dataframe into the \"group2\" dataframe by mapping each element in the State Code column in \"group2\" to the corresponding data in the \"regions\" dataframe. We then added the Region and Division columns from the \"regions\" dataframe to the \"group2\" dataframe."
      ]
    },
    {
      "cell_type": "code",
      "execution_count": null,
      "metadata": {
        "id": "QBInRacQGNvZ",
        "outputId": "5c3c6b00-5265-4332-e978-b0b162c686bc"
      },
      "outputs": [
        {
          "data": {
            "text/html": [
              "<div>\n",
              "<style scoped>\n",
              "    .dataframe tbody tr th:only-of-type {\n",
              "        vertical-align: middle;\n",
              "    }\n",
              "\n",
              "    .dataframe tbody tr th {\n",
              "        vertical-align: top;\n",
              "    }\n",
              "\n",
              "    .dataframe thead th {\n",
              "        text-align: right;\n",
              "    }\n",
              "</style>\n",
              "<table border=\"1\" class=\"dataframe\">\n",
              "  <thead>\n",
              "    <tr style=\"text-align: right;\">\n",
              "      <th></th>\n",
              "      <th>Unnamed: 0</th>\n",
              "      <th>College</th>\n",
              "      <th>Rank</th>\n",
              "      <th>State Code</th>\n",
              "      <th>Public/Private</th>\n",
              "      <th>size</th>\n",
              "      <th>Liquor violation</th>\n",
              "      <th>Illegal weapons possession</th>\n",
              "      <th>Drug violation</th>\n",
              "      <th>Liquor violation per 5000</th>\n",
              "      <th>Illegal weapons possession per 5000</th>\n",
              "      <th>Drug violation per 5000</th>\n",
              "      <th>Total VAWA violations</th>\n",
              "      <th>VAWA violation per 5000</th>\n",
              "      <th>Region</th>\n",
              "      <th>Division</th>\n",
              "    </tr>\n",
              "  </thead>\n",
              "  <tbody>\n",
              "    <tr>\n",
              "      <th>0</th>\n",
              "      <td>0</td>\n",
              "      <td>Abilene Christian University</td>\n",
              "      <td>441.0</td>\n",
              "      <td>TX</td>\n",
              "      <td>Private</td>\n",
              "      <td>5204</td>\n",
              "      <td>13</td>\n",
              "      <td>0</td>\n",
              "      <td>3</td>\n",
              "      <td>12.49</td>\n",
              "      <td>0.00</td>\n",
              "      <td>2.88</td>\n",
              "      <td>1</td>\n",
              "      <td>0.96</td>\n",
              "      <td>South</td>\n",
              "      <td>West South Central</td>\n",
              "    </tr>\n",
              "    <tr>\n",
              "      <th>1</th>\n",
              "      <td>1</td>\n",
              "      <td>Adelphi University</td>\n",
              "      <td>353.0</td>\n",
              "      <td>NY</td>\n",
              "      <td>Private</td>\n",
              "      <td>8146</td>\n",
              "      <td>0</td>\n",
              "      <td>0</td>\n",
              "      <td>0</td>\n",
              "      <td>0.00</td>\n",
              "      <td>0.00</td>\n",
              "      <td>0.00</td>\n",
              "      <td>8</td>\n",
              "      <td>4.91</td>\n",
              "      <td>Northeast</td>\n",
              "      <td>Middle Atlantic</td>\n",
              "    </tr>\n",
              "    <tr>\n",
              "      <th>2</th>\n",
              "      <td>2</td>\n",
              "      <td>American University</td>\n",
              "      <td>126.0</td>\n",
              "      <td>DC</td>\n",
              "      <td>Private</td>\n",
              "      <td>14311</td>\n",
              "      <td>2</td>\n",
              "      <td>0</td>\n",
              "      <td>1</td>\n",
              "      <td>0.70</td>\n",
              "      <td>0.00</td>\n",
              "      <td>0.35</td>\n",
              "      <td>23</td>\n",
              "      <td>8.04</td>\n",
              "      <td>South</td>\n",
              "      <td>South Atlantic</td>\n",
              "    </tr>\n",
              "    <tr>\n",
              "      <th>3</th>\n",
              "      <td>3</td>\n",
              "      <td>Appalachian State University</td>\n",
              "      <td>305.0</td>\n",
              "      <td>NC</td>\n",
              "      <td>Public</td>\n",
              "      <td>19108</td>\n",
              "      <td>109</td>\n",
              "      <td>5</td>\n",
              "      <td>106</td>\n",
              "      <td>28.52</td>\n",
              "      <td>1.31</td>\n",
              "      <td>27.74</td>\n",
              "      <td>10</td>\n",
              "      <td>2.62</td>\n",
              "      <td>South</td>\n",
              "      <td>South Atlantic</td>\n",
              "    </tr>\n",
              "    <tr>\n",
              "      <th>4</th>\n",
              "      <td>4</td>\n",
              "      <td>Ashland University</td>\n",
              "      <td>495.0</td>\n",
              "      <td>OH</td>\n",
              "      <td>Private</td>\n",
              "      <td>19881</td>\n",
              "      <td>0</td>\n",
              "      <td>0</td>\n",
              "      <td>5</td>\n",
              "      <td>0.00</td>\n",
              "      <td>0.00</td>\n",
              "      <td>1.26</td>\n",
              "      <td>13</td>\n",
              "      <td>3.27</td>\n",
              "      <td>Midwest</td>\n",
              "      <td>East North Central</td>\n",
              "    </tr>\n",
              "    <tr>\n",
              "      <th>...</th>\n",
              "      <td>...</td>\n",
              "      <td>...</td>\n",
              "      <td>...</td>\n",
              "      <td>...</td>\n",
              "      <td>...</td>\n",
              "      <td>...</td>\n",
              "      <td>...</td>\n",
              "      <td>...</td>\n",
              "      <td>...</td>\n",
              "      <td>...</td>\n",
              "      <td>...</td>\n",
              "      <td>...</td>\n",
              "      <td>...</td>\n",
              "      <td>...</td>\n",
              "      <td>...</td>\n",
              "      <td>...</td>\n",
              "    </tr>\n",
              "    <tr>\n",
              "      <th>209</th>\n",
              "      <td>209</td>\n",
              "      <td>Wichita State University</td>\n",
              "      <td>597.0</td>\n",
              "      <td>KS</td>\n",
              "      <td>Public</td>\n",
              "      <td>15778</td>\n",
              "      <td>1</td>\n",
              "      <td>0</td>\n",
              "      <td>1</td>\n",
              "      <td>0.32</td>\n",
              "      <td>0.00</td>\n",
              "      <td>0.32</td>\n",
              "      <td>10</td>\n",
              "      <td>3.17</td>\n",
              "      <td>Midwest</td>\n",
              "      <td>West North Central</td>\n",
              "    </tr>\n",
              "    <tr>\n",
              "      <th>210</th>\n",
              "      <td>210</td>\n",
              "      <td>Worcester Polytechnic Institute</td>\n",
              "      <td>93.0</td>\n",
              "      <td>MA</td>\n",
              "      <td>Private</td>\n",
              "      <td>6874</td>\n",
              "      <td>0</td>\n",
              "      <td>0</td>\n",
              "      <td>0</td>\n",
              "      <td>0.00</td>\n",
              "      <td>0.00</td>\n",
              "      <td>0.00</td>\n",
              "      <td>4</td>\n",
              "      <td>2.91</td>\n",
              "      <td>Northeast</td>\n",
              "      <td>New England</td>\n",
              "    </tr>\n",
              "    <tr>\n",
              "      <th>211</th>\n",
              "      <td>211</td>\n",
              "      <td>Xavier University</td>\n",
              "      <td>325.0</td>\n",
              "      <td>OH</td>\n",
              "      <td>Private</td>\n",
              "      <td>7127</td>\n",
              "      <td>5</td>\n",
              "      <td>1</td>\n",
              "      <td>4</td>\n",
              "      <td>3.51</td>\n",
              "      <td>0.70</td>\n",
              "      <td>2.81</td>\n",
              "      <td>9</td>\n",
              "      <td>6.31</td>\n",
              "      <td>Midwest</td>\n",
              "      <td>East North Central</td>\n",
              "    </tr>\n",
              "    <tr>\n",
              "      <th>212</th>\n",
              "      <td>212</td>\n",
              "      <td>Yale University</td>\n",
              "      <td>3.0</td>\n",
              "      <td>CT</td>\n",
              "      <td>Private</td>\n",
              "      <td>13433</td>\n",
              "      <td>0</td>\n",
              "      <td>0</td>\n",
              "      <td>8</td>\n",
              "      <td>0.00</td>\n",
              "      <td>0.00</td>\n",
              "      <td>2.98</td>\n",
              "      <td>22</td>\n",
              "      <td>8.19</td>\n",
              "      <td>Northeast</td>\n",
              "      <td>New England</td>\n",
              "    </tr>\n",
              "    <tr>\n",
              "      <th>213</th>\n",
              "      <td>213</td>\n",
              "      <td>Yeshiva University</td>\n",
              "      <td>97.0</td>\n",
              "      <td>NY</td>\n",
              "      <td>Private</td>\n",
              "      <td>19437</td>\n",
              "      <td>0</td>\n",
              "      <td>1</td>\n",
              "      <td>3</td>\n",
              "      <td>0.00</td>\n",
              "      <td>0.26</td>\n",
              "      <td>0.77</td>\n",
              "      <td>3</td>\n",
              "      <td>0.77</td>\n",
              "      <td>Northeast</td>\n",
              "      <td>Middle Atlantic</td>\n",
              "    </tr>\n",
              "  </tbody>\n",
              "</table>\n",
              "<p>214 rows × 16 columns</p>\n",
              "</div>"
            ],
            "text/plain": [
              "     Unnamed: 0                          College   Rank State Code  \\\n",
              "0             0     Abilene Christian University  441.0         TX   \n",
              "1             1               Adelphi University  353.0         NY   \n",
              "2             2              American University  126.0         DC   \n",
              "3             3     Appalachian State University  305.0         NC   \n",
              "4             4               Ashland University  495.0         OH   \n",
              "..          ...                              ...    ...        ...   \n",
              "209         209         Wichita State University  597.0         KS   \n",
              "210         210  Worcester Polytechnic Institute   93.0         MA   \n",
              "211         211                Xavier University  325.0         OH   \n",
              "212         212                  Yale University    3.0         CT   \n",
              "213         213               Yeshiva University   97.0         NY   \n",
              "\n",
              "    Public/Private   size  Liquor violation  Illegal weapons possession  \\\n",
              "0          Private   5204                13                           0   \n",
              "1          Private   8146                 0                           0   \n",
              "2          Private  14311                 2                           0   \n",
              "3           Public  19108               109                           5   \n",
              "4          Private  19881                 0                           0   \n",
              "..             ...    ...               ...                         ...   \n",
              "209         Public  15778                 1                           0   \n",
              "210        Private   6874                 0                           0   \n",
              "211        Private   7127                 5                           1   \n",
              "212        Private  13433                 0                           0   \n",
              "213        Private  19437                 0                           1   \n",
              "\n",
              "     Drug violation  Liquor violation per 5000  \\\n",
              "0                 3                      12.49   \n",
              "1                 0                       0.00   \n",
              "2                 1                       0.70   \n",
              "3               106                      28.52   \n",
              "4                 5                       0.00   \n",
              "..              ...                        ...   \n",
              "209               1                       0.32   \n",
              "210               0                       0.00   \n",
              "211               4                       3.51   \n",
              "212               8                       0.00   \n",
              "213               3                       0.00   \n",
              "\n",
              "     Illegal weapons possession per 5000  Drug violation per 5000  \\\n",
              "0                                   0.00                     2.88   \n",
              "1                                   0.00                     0.00   \n",
              "2                                   0.00                     0.35   \n",
              "3                                   1.31                    27.74   \n",
              "4                                   0.00                     1.26   \n",
              "..                                   ...                      ...   \n",
              "209                                 0.00                     0.32   \n",
              "210                                 0.00                     0.00   \n",
              "211                                 0.70                     2.81   \n",
              "212                                 0.00                     2.98   \n",
              "213                                 0.26                     0.77   \n",
              "\n",
              "     Total VAWA violations  VAWA violation per 5000     Region  \\\n",
              "0                        1                     0.96      South   \n",
              "1                        8                     4.91  Northeast   \n",
              "2                       23                     8.04      South   \n",
              "3                       10                     2.62      South   \n",
              "4                       13                     3.27    Midwest   \n",
              "..                     ...                      ...        ...   \n",
              "209                     10                     3.17    Midwest   \n",
              "210                      4                     2.91  Northeast   \n",
              "211                      9                     6.31    Midwest   \n",
              "212                     22                     8.19  Northeast   \n",
              "213                      3                     0.77  Northeast   \n",
              "\n",
              "               Division  \n",
              "0    West South Central  \n",
              "1       Middle Atlantic  \n",
              "2        South Atlantic  \n",
              "3        South Atlantic  \n",
              "4    East North Central  \n",
              "..                  ...  \n",
              "209  West North Central  \n",
              "210         New England  \n",
              "211  East North Central  \n",
              "212         New England  \n",
              "213     Middle Atlantic  \n",
              "\n",
              "[214 rows x 16 columns]"
            ]
          },
          "execution_count": 3,
          "metadata": {},
          "output_type": "execute_result"
        }
      ],
      "source": [
        "area = []\n",
        "division = []\n",
        "for i in group2['State Code']:\n",
        "    index = regions[regions['State Code']==i].index.values\n",
        "    area.append(regions['Region'].values[index][0])\n",
        "    division.append(regions['Division'].values[index][0])\n",
        "group2['Region'] = area\n",
        "group2['Division'] = division\n",
        "group2"
      ]
    },
    {
      "cell_type": "markdown",
      "metadata": {
        "id": "I36L5CsYGNvZ"
      },
      "source": [
        "The cluster_by_region function produces a graph of x and y, which is clustered by the four regions:"
      ]
    },
    {
      "cell_type": "code",
      "execution_count": null,
      "metadata": {
        "id": "Mz1JPthAGNva"
      },
      "outputs": [],
      "source": [
        "def cluster_by_region(x,y):\n",
        "    colors = {'Midwest':'orange', 'Northeast':'blue', 'South':'green', 'West':'pink'}\n",
        "    fig, ax = plt.subplots()\n",
        "    for s in group2['Region'].unique():\n",
        "        a = group2.loc[group2['Region'] == s][x]\n",
        "        b = group2.loc[group2['Region'] == s][y]\n",
        "        ax.scatter(a, b, c = colors[s], label = s)\n",
        "    ax.legend()\n",
        "    plt.title(x+' vs '+y)\n",
        "    plt.xlabel(x)\n",
        "    plt.ylabel(y)\n",
        "    plt.show()"
      ]
    },
    {
      "cell_type": "code",
      "execution_count": null,
      "metadata": {
        "id": "gLBVUd9TGNva",
        "outputId": "49610ab3-ceb9-406d-f4e3-3171f8389606"
      },
      "outputs": [
        {
          "data": {
            "image/png": "[encoded data removed]",
            "text/plain": [
              "<Figure size 432x288 with 1 Axes>"
            ]
          },
          "metadata": {
            "needs_background": "light"
          },
          "output_type": "display_data"
        }
      ],
      "source": [
        "cluster_by_region(\"Illegal weapons possession\", \"Total VAWA violations\")"
      ]
    },
    {
      "cell_type": "markdown",
      "metadata": {
        "id": "RGSCaW7PGNvb"
      },
      "source": [
        "Figure 4: Clustered scatterplot of illegal weapons possesion and total VAWA violations"
      ]
    },
    {
      "cell_type": "code",
      "execution_count": null,
      "metadata": {
        "id": "X6_XkbsxGNvb",
        "outputId": "f5f34485-fb47-418d-ae98-13f41f8b435c"
      },
      "outputs": [
        {
          "data": {
            "image/png": "[encoded data removed]",
            "text/plain": [
              "<Figure size 432x288 with 1 Axes>"
            ]
          },
          "metadata": {
            "needs_background": "light"
          },
          "output_type": "display_data"
        }
      ],
      "source": [
        "cluster_by_region(\"Drug violation\", \"Total VAWA violations\")"
      ]
    },
    {
      "cell_type": "markdown",
      "metadata": {
        "id": "VtmR49-hGNvb"
      },
      "source": [
        "Figure 5: Clustered scatterplot of drug law violations and total VAWA violation"
      ]
    },
    {
      "cell_type": "code",
      "execution_count": null,
      "metadata": {
        "id": "WEBq4jvmGNvc",
        "outputId": "69ab3777-206e-4502-b606-5728f488bd05"
      },
      "outputs": [
        {
          "data": {
            "image/png": "[encoded data removed]",
            "text/plain": [
              "<Figure size 432x288 with 1 Axes>"
            ]
          },
          "metadata": {
            "needs_background": "light"
          },
          "output_type": "display_data"
        }
      ],
      "source": [
        "cluster_by_region(\"Liquor violation\", \"Total VAWA violations\")"
      ]
    },
    {
      "cell_type": "markdown",
      "metadata": {
        "id": "07pF1RJUGNvc"
      },
      "source": [
        "Figure 6: Clustered scatterplot of liquor law violations and total VAWA violations"
      ]
    },
    {
      "cell_type": "code",
      "execution_count": null,
      "metadata": {
        "id": "3q71v35CGNvd",
        "outputId": "1fada6f2-f026-4387-f94d-88ae51dc41a8"
      },
      "outputs": [
        {
          "data": {
            "image/png": "[encoded data removed]",
            "text/plain": [
              "<Figure size 432x288 with 1 Axes>"
            ]
          },
          "metadata": {
            "needs_background": "light"
          },
          "output_type": "display_data"
        }
      ],
      "source": [
        "cluster_by_region(\"Rank\", \"Total VAWA violations\")"
      ]
    },
    {
      "cell_type": "markdown",
      "metadata": {
        "id": "HcENIGVDGNvd"
      },
      "source": [
        "Figure 7: Clustered scatterplot of rank and total VAWA violations"
      ]
    },
    {
      "cell_type": "markdown",
      "metadata": {
        "id": "kL_2pZPnGNvd"
      },
      "source": [
        "[back to top](#top)\n",
        "\n",
        "### Multivariable Linear Regression <a class=\"anchor\" id=\"mlr\"></a>\n",
        "We trained a multivariable linear regression model based on the \"group2\" dataframe. The variables are the illegal weapons possesion per 5000 students, drug violations per 5000 students, and liquor violation cases per 5000 students of each college. The output will be the number of VAWA violations of each college per 5000 students."
      ]
    },
    {
      "cell_type": "code",
      "execution_count": null,
      "metadata": {
        "id": "KNn1ehMuGNve",
        "outputId": "f57bd4f7-ad6f-42c0-a165-b53768e731b5"
      },
      "outputs": [
        {
          "name": "stdout",
          "output_type": "stream",
          "text": [
            "Illegal weapons possession coefficient: 2.5672\n",
            "Drug law violations coefficient : 0.1085\n",
            "Liquor law violations coefficient: 0.0064\n"
          ]
        }
      ],
      "source": [
        "lr = LinearRegression()\n",
        "model = lr.fit(group2[[\"Illegal weapons possession per 5000\", \"Drug violation per 5000\", \"Liquor violation per 5000\"]], group2[\"VAWA violation per 5000\"])\n",
        "\n",
        "#Find coefficients for model\n",
        "print(\"Illegal weapons possession coefficient: {:.4f}\".format(model.coef_[0]))\n",
        "print(\"Drug law violations coefficient : {:.4f}\".format(model.coef_[1]))\n",
        "print(\"Liquor law violations coefficient: {:.4f}\".format(model.coef_[2]))"
      ]
    },
    {
      "cell_type": "markdown",
      "metadata": {
        "id": "F-Bs8Rf6GNve"
      },
      "source": [
        "Next, graphs – explanatory/predictor variables vs outcome variable as 2D scatter plots:"
      ]
    },
    {
      "cell_type": "code",
      "execution_count": null,
      "metadata": {
        "id": "hAD1K1pqGNve",
        "outputId": "5af58cb2-7f23-4de5-d62f-06a1e4761ad3"
      },
      "outputs": [
        {
          "data": {
            "image/png": "[encoded data removed]",
            "text/plain": [
              "<Figure size 432x288 with 1 Axes>"
            ]
          },
          "metadata": {
            "needs_background": "light"
          },
          "output_type": "display_data"
        }
      ],
      "source": [
        "#illegal weapons vs vawa violations\n",
        "plt.scatter(group[[\"Illegal weapons possession per 5000\"]], group[\"VAWA violation per 5000\"])\n",
        "plt.title(\"Figure 8: Illegal weapons possession counts vs VAWA violation counts in 2018\")\n",
        "plt.xlabel(\"Illegal weapons possession per 5000 students\")\n",
        "plt.ylabel(\"VAWA violations per 5000 students\")\n",
        "plt.tight_layout()"
      ]
    },
    {
      "cell_type": "markdown",
      "metadata": {
        "id": "-pcolA54GNvf"
      },
      "source": [
        "Figure 8: Scatterplot of illegal weapons possession vs VAWA violations both per 5000 students in 2018."
      ]
    },
    {
      "cell_type": "code",
      "execution_count": null,
      "metadata": {
        "id": "FoFwSQR1GNvf",
        "outputId": "230a667b-83d3-42ce-9ec7-7fa0b2f8ab8e"
      },
      "outputs": [
        {
          "data": {
            "image/png": "[encoded data removed]",
            "text/plain": [
              "<Figure size 432x288 with 1 Axes>"
            ]
          },
          "metadata": {
            "needs_background": "light"
          },
          "output_type": "display_data"
        }
      ],
      "source": [
        "#drug violations vs vawa violations\n",
        "plt.scatter(group[[\"Drug violation per 5000\"]], group[\"VAWA violation per 5000\"])\n",
        "plt.title(\"Figure 9: Drug law violation counts vs VAWA violation counts in 2018\")\n",
        "plt.xlabel(\"Drug violations per 5000 students\")\n",
        "plt.ylabel(\"VAWA violations per 5000 students\")\n",
        "plt.tight_layout()"
      ]
    },
    {
      "cell_type": "markdown",
      "metadata": {
        "id": "gG_t1NRhGNvg"
      },
      "source": [
        "Figure 9: Scatterplot of drug law violations vs VAWA violations both per 5000 students in 2018."
      ]
    },
    {
      "cell_type": "code",
      "execution_count": null,
      "metadata": {
        "id": "bBsNLdtIGNvg",
        "outputId": "6e4f792e-4f5a-4169-8f31-2ca3253b9afd"
      },
      "outputs": [
        {
          "data": {
            "image/png": "[encoded data removed]",
            "text/plain": [
              "<Figure size 432x288 with 1 Axes>"
            ]
          },
          "metadata": {
            "needs_background": "light"
          },
          "output_type": "display_data"
        }
      ],
      "source": [
        "#liquor law violations vs vawa violations\n",
        "plt.scatter(group[[\"Liquor violation per 5000\"]], group[\"VAWA violation per 5000\"])\n",
        "plt.title(\"Figure 10: Liquor law violation counts vs VAWA violation counts in 2018\")\n",
        "plt.xlabel(\"Liquor law violations per 5000 students\")\n",
        "plt.ylabel(\"VAWA violations per 5000 students\")\n",
        "plt.tight_layout()"
      ]
    },
    {
      "cell_type": "markdown",
      "metadata": {
        "id": "el5hvOI3GNvh"
      },
      "source": [
        "Figure 10: Scatterplot of liquor law violations vs VAWA violations both per 5000 students in 2018."
      ]
    },
    {
      "cell_type": "markdown",
      "metadata": {
        "id": "w_6jH2BmGNvh"
      },
      "source": [
        "Next, we ran a multivariable LR but with school ranking as the outcome variable and illegal weapons possesion, drug violation, and liquor violation, and VAWA violations of each college to see if any of those four variables could predict the school's ranking/any correlation."
      ]
    },
    {
      "cell_type": "code",
      "execution_count": null,
      "metadata": {
        "id": "fO46_bJjGNvh",
        "outputId": "4cc2d5f4-da14-45e5-d8a1-2feea075cbc0"
      },
      "outputs": [
        {
          "name": "stdout",
          "output_type": "stream",
          "text": [
            "Illegal weapons possession coefficient: 13.7285\n",
            "Drug law violations coefficient : 6.2179\n",
            "Liquor law violations coefficient: -1.0199\n",
            "VAWA violations coefficient: -3.5746\n"
          ]
        }
      ],
      "source": [
        "lr2 = LinearRegression()\n",
        "model2 = lr2.fit(group2[[\"Illegal weapons possession per 5000\", \"Drug violation per 5000\", \"Liquor violation per 5000\", \"VAWA violation per 5000\"]], group2[\"Rank\"])\n",
        "\n",
        "#Find coefficients for model\n",
        "print(\"Illegal weapons possession coefficient: {:.4f}\".format(model2.coef_[0]))\n",
        "print(\"Drug law violations coefficient : {:.4f}\".format(model2.coef_[1]))\n",
        "print(\"Liquor law violations coefficient: {:.4f}\".format(model2.coef_[2]))\n",
        "print(\"VAWA violations coefficient: {:.4f}\".format(model2.coef_[3]))"
      ]
    },
    {
      "cell_type": "markdown",
      "metadata": {
        "id": "RLXTccNbGNvh"
      },
      "source": [
        "Again, graphs – explanatory/predictor variables vs outcome variable as 2D scatter plots:"
      ]
    },
    {
      "cell_type": "code",
      "execution_count": null,
      "metadata": {
        "id": "qxLGQtvfGNvi",
        "outputId": "3e21256a-1ee8-44b6-fae2-c9b43b1b67d9"
      },
      "outputs": [
        {
          "data": {
            "image/png": "[encoded data removed]",
            "text/plain": [
              "<Figure size 432x288 with 1 Axes>"
            ]
          },
          "metadata": {
            "needs_background": "light"
          },
          "output_type": "display_data"
        }
      ],
      "source": [
        "#illegal weapons vs school ranking\n",
        "plt.scatter(group2[[\"Illegal weapons possession per 5000\"]], group2[\"Rank\"])\n",
        "plt.title(\"Figure 11: Illegal weapons possession counts vs college rank in 2018\")\n",
        "plt.xlabel(\"Illegal weapons possession per 5000 students\")\n",
        "plt.ylabel(\"College ranking\")\n",
        "plt.tight_layout()"
      ]
    },
    {
      "cell_type": "markdown",
      "metadata": {
        "id": "nZe3sWbgGNvi"
      },
      "source": [
        "Figure 11: Scatterplot of illegal weapon possession counts per 5000 students vs college ranking (214 schools)."
      ]
    },
    {
      "cell_type": "code",
      "execution_count": null,
      "metadata": {
        "id": "D1lbLENCGNvi",
        "outputId": "702e0498-e8ff-4452-921c-62b25a1293cc"
      },
      "outputs": [
        {
          "data": {
            "image/png": "[encoded data removed]",
            "text/plain": [
              "<Figure size 432x288 with 1 Axes>"
            ]
          },
          "metadata": {
            "needs_background": "light"
          },
          "output_type": "display_data"
        }
      ],
      "source": [
        "#drug law violations vs school ranking\n",
        "plt.scatter(group2[[\"Drug violation per 5000\"]], group2[\"Rank\"])\n",
        "plt.title(\"Figure 12: Drug law violation counts vs college rank in 2018\")\n",
        "plt.xlabel(\"Drug law violation possession per 5000 students\")\n",
        "plt.ylabel(\"College ranking\")\n",
        "plt.tight_layout()"
      ]
    },
    {
      "cell_type": "markdown",
      "metadata": {
        "id": "4Czkn0FTGNvj"
      },
      "source": [
        "Graph 12: Scatterplot of drug law violations per 5000 students vs college rankings (214 schools)."
      ]
    },
    {
      "cell_type": "code",
      "execution_count": null,
      "metadata": {
        "id": "yOYCSKuQGNvj",
        "outputId": "831aa8be-13a4-4306-ff18-15926cc3adff"
      },
      "outputs": [
        {
          "data": {
            "image/png": "[encoded data removed]",
            "text/plain": [
              "<Figure size 432x288 with 1 Axes>"
            ]
          },
          "metadata": {
            "needs_background": "light"
          },
          "output_type": "display_data"
        }
      ],
      "source": [
        "#liquor law violations vs school ranking\n",
        "plt.scatter(group2[[\"Liquor violation per 5000\"]], group2[\"Rank\"])\n",
        "plt.title(\"Figure 13: Liquor law violation counts vs college rank in 2018\")\n",
        "plt.xlabel(\"Liquor law violation possession per 5000 students\")\n",
        "plt.ylabel(\"College ranking\")\n",
        "plt.tight_layout()"
      ]
    },
    {
      "cell_type": "markdown",
      "metadata": {
        "id": "EAxiRd5fGNvj"
      },
      "source": [
        "Graph 13: Scatterplot of liquor law violations per 5000 students vs college rankings (214 schools)."
      ]
    },
    {
      "cell_type": "code",
      "execution_count": null,
      "metadata": {
        "id": "YejJbGrPGNvk",
        "outputId": "07feb64a-895c-42b4-d0e9-a3278e842871"
      },
      "outputs": [
        {
          "data": {
            "image/png": "[encoded data removed]",
            "text/plain": [
              "<Figure size 432x288 with 1 Axes>"
            ]
          },
          "metadata": {
            "needs_background": "light"
          },
          "output_type": "display_data"
        }
      ],
      "source": [
        "#VAWA law violations vs school ranking\n",
        "plt.scatter(group2[[\"VAWA violation per 5000\"]], group2[\"Rank\"])\n",
        "plt.title(\"Figure 14: Number of VAWA violations per 5000 students vs college rank in 2018\")\n",
        "plt.xlabel(\"VAWA violations per 5000 students\")\n",
        "plt.ylabel(\"College ranking\")\n",
        "plt.tight_layout()"
      ]
    },
    {
      "cell_type": "markdown",
      "metadata": {
        "id": "6DWA6Ks6GNvk"
      },
      "source": [
        "Graph 14: Scatterplot of VAWA violations per 5000 students vs college rankings (214 schools)."
      ]
    },
    {
      "cell_type": "markdown",
      "metadata": {
        "id": "zOqAnOHCGNvk"
      },
      "source": [
        "[back to top](#top)\n",
        "\n",
        "#### Pearson Correlation Test <a class=\"anchor\" id=\"pearsontest\"></a>"
      ]
    },
    {
      "cell_type": "markdown",
      "metadata": {
        "id": "rUkBKa_lGNvk"
      },
      "source": [
        "To determine whether the relationships in the multivariable linear regression models were significant or not, that is, if there really is a linear relationship between the predictor and outcome variable, we performed two Pearson correlation tests."
      ]
    },
    {
      "cell_type": "markdown",
      "metadata": {
        "id": "SMRihR8RGNvk"
      },
      "source": [
        "We used pearsonr from scipy.stats for the variable pairings in group2 to determine if the two variables have a linear relationship or not:"
      ]
    },
    {
      "cell_type": "code",
      "execution_count": null,
      "metadata": {
        "id": "9d0zLjIdGNvl",
        "outputId": "9c2349bc-8559-4620-a806-eec223b37dac"
      },
      "outputs": [
        {
          "name": "stdout",
          "output_type": "stream",
          "text": [
            "LIQUOR LAW VIOLATION VS VAWA: coef=0.120, p=0.080\n",
            "Probably independent, accept null, not significant\n",
            "\n",
            "ILLEGAL WEAPONS VS VAWA: coef=0.236, p=0.000\n",
            "Probably dependent, reject null, significant\n",
            "\n",
            "DRUG LAW VIOLATIONS VS VAWA: coef=0.207, p=0.002\n",
            "Probably dependent, reject null, significant\n",
            "\n"
          ]
        }
      ],
      "source": [
        "# reference code: https://machinelearningmastery.com/statistical-hypothesis-tests-in-python-cheat-sheet/\n",
        "\n",
        "from scipy.stats import pearsonr\n",
        "liquorvio = group2[\"Liquor violation per 5000\"]\n",
        "illegalweapons = group2[\"Illegal weapons possession per 5000\"]\n",
        "druglaw = group2[\"Drug violation per 5000\"]\n",
        "vawavio = group2[\"VAWA violation per 5000\"]\n",
        "\n",
        "# LIQUOR LAW VIOLATION VS VAWA\n",
        "coef, p1 = pearsonr(liquorvio, vawavio)\n",
        "print('LIQUOR LAW VIOLATION VS VAWA: coef=%.3f, p=%.3f' % (coef, p1))\n",
        "if p1 > 0.05:\n",
        "    print('Probably independent, accept null, not significant\\n')\n",
        "else:\n",
        "    print('Probably dependent, reject null, significant\\n')\n",
        "\n",
        "# ILLEGAL WEAPONS VS VAWA\n",
        "coef2, p2 = pearsonr(illegalweapons, vawavio)\n",
        "print('ILLEGAL WEAPONS VS VAWA: coef=%.3f, p=%.3f' % (coef2, p2))\n",
        "if p2 > 0.05:\n",
        "    print('Probably independent, accept null, not significant\\n')\n",
        "else:\n",
        "    print('Probably dependent, reject null, significant\\n')\n",
        "    \n",
        "# DRUG LAW VIOLATIONS VS VAWA    \n",
        "coef3, p3 = pearsonr(druglaw, vawavio)\n",
        "print('DRUG LAW VIOLATIONS VS VAWA: coef=%.3f, p=%.3f' % (coef3, p3))\n",
        "if p3 > 0.05:\n",
        "    print('Probably independent, accept null, not significant\\n')\n",
        "else:\n",
        "    print('Probably dependent, reject null, significant\\n')"
      ]
    },
    {
      "cell_type": "markdown",
      "metadata": {
        "id": "oyvWqUBeGNvl"
      },
      "source": [
        "From this test, we can see that illegal weapons and VAWA violations, as well as drug law violations and VAWA violations, all per 5000 students, are dependent (low correlation based on the coefficient) and are related and have a linear relationship."
      ]
    },
    {
      "cell_type": "markdown",
      "metadata": {
        "id": "lBdnbj_8GNvl"
      },
      "source": [
        "Next, we checked for correlation between two variables (predictor and outcome) from the second linear regression model predicting the violation variables and school ranking using Pearson correlation (pairwise correlation of columns of second LR in group2)."
      ]
    },
    {
      "cell_type": "markdown",
      "metadata": {
        "id": "t-6k2IKUGNvl"
      },
      "source": [
        "We did a Pearson's correlation test again, but this time against school ranking:"
      ]
    },
    {
      "cell_type": "code",
      "execution_count": null,
      "metadata": {
        "id": "MF91nDROGNvm",
        "outputId": "b99fb10f-fc63-41e8-db02-31ce0bc5369c"
      },
      "outputs": [
        {
          "name": "stdout",
          "output_type": "stream",
          "text": [
            "LIQUOR LAW VIOLATION VS SCHOOL RANK: coef=0.061, p=0.373\n",
            "Probably independent, accept null, not significant\n",
            "\n",
            "ILLEGAL WEAPONS VS SCHOOL RANK: coef=0.030, p=0.660\n",
            "Probably independent, accept null, not significant\n",
            "\n",
            "DRUG LAW VIOLATIONS VS SCHOOL RANK: coef=0.184, p=0.007\n",
            "Probably dependent, reject null, significant\n",
            "\n",
            "TOTAL VAWA VIOLATIONS VS SCHOOL RANK: coef=-0.03635, p=0.59690\n",
            "Probably independent, accept null, not significant\n",
            "\n"
          ]
        }
      ],
      "source": [
        "# reference code: https://machinelearningmastery.com/statistical-hypothesis-tests-in-python-cheat-sheet/\n",
        "\n",
        "schoolranking = group2[\"Rank\"]\n",
        "\n",
        "# LIQUOR LAW VIOLATION VS SCHOOL RANK\n",
        "coef4, p4 = pearsonr(liquorvio, schoolranking)\n",
        "print('LIQUOR LAW VIOLATION VS SCHOOL RANK: coef=%.3f, p=%.3f' % (coef4, p4))\n",
        "if p4 > 0.05:\n",
        "    print('Probably independent, accept null, not significant\\n')\n",
        "else:\n",
        "    print('Probably dependent, reject null, significant\\n')\n",
        "    \n",
        "# ILLEGAL WEAPONS VS SCHOOL RANK \n",
        "coef5, p5 = pearsonr(illegalweapons, schoolranking)\n",
        "print('ILLEGAL WEAPONS VS SCHOOL RANK: coef=%.3f, p=%.3f' % (coef5, p5))\n",
        "if p5 > 0.05:\n",
        "    print('Probably independent, accept null, not significant\\n')\n",
        "else:\n",
        "    print('Probably dependent, reject null, significant\\n')\n",
        "    \n",
        "# DRUG LAW VIOLATIONS VS SCHOOL RANK \n",
        "coef6, p6 = pearsonr(druglaw, schoolranking)\n",
        "print('DRUG LAW VIOLATIONS VS SCHOOL RANK: coef=%.3f, p=%.3f' % (coef6, p6))\n",
        "if p6 > 0.05:\n",
        "    print('Probably independent, accept null, not significant\\n')\n",
        "else:\n",
        "    print('Probably dependent, reject null, significant\\n')\n",
        "    \n",
        "# TOTAL VAWA VIOLATIONS VS SCHOOL RANK  \n",
        "coef7, p7 = pearsonr(vawavio, schoolranking)\n",
        "print('TOTAL VAWA VIOLATIONS VS SCHOOL RANK: coef=%.5f, p=%.5f' % (coef7, p7))\n",
        "if p7 > 0.05:\n",
        "    print('Probably independent, accept null, not significant\\n')\n",
        "else:\n",
        "    print('Probably dependent, reject null, significant\\n')"
      ]
    },
    {
      "cell_type": "markdown",
      "metadata": {
        "id": "HEoTBf7DGNvm"
      },
      "source": [
        "From this test, only drug law violations per 5000 students versus school ranking and are correlated.\n",
        "\n",
        "[back to top](#top)"
      ]
    },
    {
      "cell_type": "markdown",
      "metadata": {
        "id": "t2-cFkL1GNvm"
      },
      "source": [
        "## Evaluation of Significance <a class=\"anchor\" id=\"evaluation\"></a>\n",
        "To test the statistical significance of our data analyses–the multivariable linear regression models and Pearson correlation coefficient calculations–we first did a Pearson correlation test involving the Pearson correlation coefficient and p-value. We used pearsonr from scipy.stats for this test. \n",
        "\n",
        "The results of the test on the first test, which compared liquor law violations, illegal weapon possession, and drug law violations (predictor variables), all per 5000 students, to VAWA violations (outcome variable) per 5000 students at universities, showed that the illegal weapon violations and drug law violations versus VAWA violations were dependent. That is, we reject the null hypothesis that there is no correlation between the variables, and conclude that a significant correlation does exist. Our alpha is 0.05. The p-value for illegal weapons vs VAWA was 0.000 < 0.05, and the p-value for drug law violations vs VAWA was 0.002 < 0.05. However, the correlation values are still quite small in this test (weapon coef=0.236 and drug coef=0.207) indicating low correlation among the predictor and outcome variables. \n",
        "\n",
        "\n",
        "The results of the Pearson correlation test on the second MLR analysis, which compared liquor law violations, illegal weapon possession, drug law violations, and total VAWA violations (predictor variables), all per 5000 students, to the university’s ranking (outcome variable), showed that only one of the relationships were statistically significant, indicating that the predictor and outcome variable pairs are mostly independent/no correlation. The only relationship that is statistically significant is drug law violations per 5000 students versus school ranking, with p = 0.007 < 0.05. The correlation between these two variables was quite low at 0.184.\n",
        "\n",
        "So, with the only significant correlations in our set of predictor and outcome variables being illegal weapon violations per 5000 students versus VAWA violations per 5000 students, drug law violations per 5000 students versus VAWA violations per 5000 students, and drug law violations per 5000 students versus university ranking, the team's original thoughts on what would be correlated and what would not took a turn.\n",
        "\n",
        "[back to top](#top)"
      ]
    },
    {
      "cell_type": "markdown",
      "metadata": {
        "id": "1-3J4rgTGNvn"
      },
      "source": [
        "## Interpretation and Conclusions <a class=\"anchor\" id=\"conclusion\"></a>\n",
        "### Multivariable Linear Regression\n",
        "As can be seen in the graphical representations of the multivariable linear regressions we did on sexual assault allegations, drug law violations, possession of illegal weapons, and liquor law violations, as well as college rankings, there seem to be no strong relationships among any of these variables. Through our tests for statistical significance, however, we did discover that some relationships did seem to be significant, as discussed above.\n",
        "\n",
        "When VAWA violation counts were compared against drug law violation counts, possession of illegal weapons counts, and liquor law violation counts, the model returned a wide variety of results, with data points across the spectrum. For instance, some schools had a high number of VAWA violation counts with negligible counts of drug law violations, while other schools had the inverse. Thankfully, there were no data points that seemed to have high counts within all violation types.\n",
        "\n",
        "One potential result of interest could be the coefficients derived from a multivariable linear regression, with all four violation types as the independent variables and college ranking as the dependent variable. We discovered that illegal weapons possessions and drug law violations, both per 5000 students, were the only variables with positive coefficients. In other words, when all four variables were weighed together in determining college ranking, a higher ranking was associated with about 13.7285 more illegal weapons possessions, and 6.2179 more drug law violations per 5000 students. The other two variables’ coefficients were negative: liquor law violations at -1.0199, and VAWA violations at -3.5746. This might indicate that higher college rankings are associated with fewer violation counts for these three variables. "
      ]
    },
    {
      "cell_type": "markdown",
      "metadata": {
        "id": "FkO43oI5GNvn"
      },
      "source": [
        "### Data Clustering\n",
        "In our clustering analyses, we compared VAWA violation counts against drug law violation counts, possession of illegal weapons counts, and liquor law violation counts. We then color-coded each data point by geographical region, as supplied by data from the US Census Bureau: South, Northeast, Midwest, and West.\n",
        "\n",
        "In this process, we also received similarly inconclusive results. No clear relationships between any of the variables and regions can be determined based on our clustering analyses. \n",
        "\n",
        "One notable observation that can be made, however, is the prominence of schools in the South within outliers. For instance, in Figure 5 (“Clustered scatterplot of drug violations vs total VAWA violations”), many of the data points seem to originate from the South region cluster. On the other hand, many schools of the Northeast region placed closer to 0 for ranking in Figure 7 (“Clustered scatterplot of rank and total VAWA violations”). Unfortunately, these patterns do not seem to play a major role in any of the results gathered during data clustering. In other words, it is difficult to assert that any one region of schools is responsible for the majority of counts for any specific violation type."
      ]
    },
    {
      "cell_type": "markdown",
      "metadata": {
        "id": "bPfbCP-uGNvn"
      },
      "source": [
        "### Pearson Coefficient Tests\n",
        "Based on the results of the two Pearson coefficient tests, not many variable pairings had linear relationships, and the ones that did were weakly correlated. Originally we informally hypothesized that there would be a medium to high strength correlation among many of these factors and VAWA violations or school ranking. However, once we actually performed our data analyses, we saw that, given our limited data, there were not many violation counts to begin with. \n",
        "\n",
        "The various law violation counts we analyzed that did show statistically significant dependency on the outcome variables of VAWA law violations per 5000 students and university rankings had low correlation coefficients. For both Pearson coefficient tests we performed, the three coefficients were less than 0.25 (for predictor variable vs VAWA: weapon coef=0.236 and drug coef=0.207; for predictor variable vs school rank: 0.184). \n",
        "\n",
        "These results are similar to the conclusions from our other data analyses and are somewhat inconclusive. Out of the seven variable pairings/relationships, only three were actually correlated, but weakly correlated for that matter."
      ]
    },
    {
      "cell_type": "markdown",
      "metadata": {
        "id": "DUe0wjHFGNvo"
      },
      "source": [
        "### Overall\n",
        "As a whole, it seems unlikely that there is no correlation at all amongst these variables, and we remain hesitant to assert confidence in our conclusions. There are definitely some clear limitations in the datasets we utilized that could have impacted our results. The results are definitely not what we expected; we began this project with the hypothesis that colleges with higher rankings would have fewer counts of all violations overall, and that potentially grouping these data points by region might indicate varying frequencies of different violations. However, the frequencies of violations seemed to have little to no impact on overall college ranking at all. Our analyses may be largely inconclusive due to our incorrect initial assumptions regarding the linearity of our data, and thus the dependence of our chosen analyses techniques upon linearity.\n",
        "\n",
        "Perhaps these results, albeit largely inconclusive, indicate a silver lining in the content of the data: these types of law violations are not notably common among schools to begin with. Our inability to find a strong correlation amongst these variables indicates that violations are not frequent enough to have a noticeable impact on a school’s ranking. In addition, a great majority of schools included within our selected datasets were not ‘repeat offenders’ with high counts of any violations, which is relieving to observe as college students ourselves.\n",
        "\n",
        "[back to top](#top)"
      ]
    },
    {
      "cell_type": "markdown",
      "metadata": {
        "id": "qr2YKnv3GNvo"
      },
      "source": [
        "## Data Limitations <a class=\"anchor\" id=\"limitations\"></a>\n",
        "One of the major problems with our datasets is that they may be too specific for the question(s) we initially wanted to explore. We were initially interested in comparing specifically liquor law violations to sexual harassment on college campuses, but broadened our scope to include more types of violations and overall college rankings as well as we did more research. The dataset of Violence Against Women Act violations is potentially too specific for our group’s research area because it only consists of reported violations to VAWA, which may have caused some limitations. In the future, we would like to explore a dataset that reaches beyond VAWA violations and includes other harassment and assault accusations on not only women.\n",
        "\n",
        "Another potential problem likely resides in dealing with outliers in our data. This comes hand in hand with researching statistics on this kind of material.\n",
        "\n",
        "[back to top](#top)"
      ]
    },
    {
      "cell_type": "markdown",
      "metadata": {
        "id": "PL2DKe25GNvp"
      },
      "source": [
        "## Source Code <a class=\"anchor\" id=\"source\"></a>\n",
        "Github repository: https://github.coecis.cornell.edu/lak252/2950_alcohol_project\n",
        "\n",
        "### Appendix: Data Cleaning\n",
        "[Access our data cleaning and description appendix here.](data_cleaning_appendix.ipynb)\n",
        "\n",
        "[back to top](#top)"
      ]
    },
    {
      "cell_type": "markdown",
      "metadata": {
        "id": "F12Y7c6nGNvp"
      },
      "source": [
        "## Acknowledgements <a class=\"anchor\" id=\"acknowledgements\"></a>\n",
        "We would like to thank the INFO 2950 team of TAs/teaching staff and Professor Wilkens for additional help, lecture code, and support in the completion of this project.\n",
        "\n",
        "We would also like to acknowledge the pandas documentation website, as wel as the various libraries we imported (sklearn, pandas, numpy, matplot.lib, scipy). In addition, we directly referenced code from https://machinelearningmastery.com/statistical-hypothesis-tests-in-python-cheat-sheet/ for the Pearson correlation tests.\n",
        "\n",
        "Finally, thanks to our team members for putting in the time and effort into this project!\n",
        "\n",
        "[back to top](#top)"
      ]
    }
  ],
  "metadata": {
    "kernelspec": {
      "display_name": "Python 3",
      "language": "python",
      "name": "python3"
    },
    "language_info": {
      "codemirror_mode": {
        "name": "ipython",
        "version": 3
      },
      "file_extension": ".py",
      "mimetype": "text/x-python",
      "name": "python",
      "nbconvert_exporter": "python",
      "pygments_lexer": "ipython3",
      "version": "3.8.5"
    },
    "colab": {
      "provenance": [],
      "include_colab_link": true
    }
  },
  "nbformat": 4,
  "nbformat_minor": 0
}